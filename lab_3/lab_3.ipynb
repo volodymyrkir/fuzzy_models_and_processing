{
 "cells": [
  {
   "cell_type": "code",
   "execution_count": 13,
   "id": "5ad3b44a",
   "metadata": {},
   "outputs": [],
   "source": [
    "from dataclasses import dataclass\n",
    "\n",
    "@dataclass\n",
    "class LRInterval:\n",
    "    a: float\n",
    "    b: float\n",
    "    alpha: float\n",
    "    beta: float\n",
    "\n",
    "    def __add__(self, other):\n",
    "        a = self.a + other.a\n",
    "        b = self.b + other.b\n",
    "        alpha = self.alpha + other.alpha\n",
    "        beta = self.beta + other.beta\n",
    "\n",
    "        return LRInterval(a, b, alpha, beta)\n",
    "    \n",
    "    def __sub__(self, other):\n",
    "        a = self.a - other.a\n",
    "        b = self.b - other.b\n",
    "        alpha = self.alpha + other.beta\n",
    "        beta = self.beta + other.alpha\n",
    "\n",
    "        return LRInterval(*sorted([a, b]), alpha, beta)\n",
    "    \n",
    "    def __mul__(self, other):\n",
    "        a = self.a * other.a\n",
    "        b = self.b * other.b\n",
    "        alpha = self.alpha * other.a + other.alpha * self.a\n",
    "        beta = self.beta * other.b + other.beta * self.b\n",
    "\n",
    "        return LRInterval(*sorted([a, b]), alpha, beta)\n",
    "    \n",
    "    def __truediv__(self, other):\n",
    "        a = self.a / other.b\n",
    "        b = self.b / other.a\n",
    "        alpha = (self.a * other.beta + self.alpha * other.b) / (other.b ** 2)\n",
    "        beta = (self.beta * other.a + self.b * other.alpha) / (other.a ** 2)\n",
    "\n",
    "        return LRInterval(*sorted([a, b]), alpha, beta)\n",
    "\n",
    "def trapmf(a: float, b: float, c: float, d: float) -> LRInterval:\n",
    "    return LRInterval(a, b, a - c, d - b)\n",
    "\n",
    "def trimf(a: float, b: float, c: float) -> LRInterval:\n",
    "    return LRInterval(a, a, a - b, c - a)\n",
    "\n",
    "def rectmf(a: float, b: float) -> LRInterval:\n",
    "    return LRInterval(a, b, 0, 0)\n",
    "\n",
    "def const(a: float) -> LRInterval:\n",
    "    return LRInterval(a, a, 0, 0)"
   ]
  },
  {
   "cell_type": "markdown",
   "id": "f339b28a",
   "metadata": {},
   "source": [
    "### Приклад 1\n",
    "Дохід магазинів `A`, `B`, `C` та `D` можна позначити як нечітку величину відповідну вірогідності отриманню певної суми\n",
    "\n",
    "Магазини `A`, `B` і `C` завжди прибуткові, а `D` - завжди збитковий\n",
    "\n",
    "Знайти **дохід (`E`)** та **чистий дохід (`F`)**"
   ]
  },
  {
   "cell_type": "code",
   "execution_count": 14,
   "id": "8638d9b0",
   "metadata": {},
   "outputs": [
    {
     "name": "stdout",
     "output_type": "stream",
     "text": [
      "LRInterval(a=150, b=180, alpha=10, beta=50) LRInterval(a=70, b=100, alpha=30, beta=80)\n"
     ]
    }
   ],
   "source": [
    "A = trapmf(50, 70, 40, 100)\n",
    "B = rectmf(100, 110)\n",
    "C = trimf(0, 0, 20)\n",
    "D = trimf(80, 50, 100)\n",
    "\n",
    "E = A + B + C\n",
    "F = E - D\n",
    "\n",
    "print(E, F)"
   ]
  },
  {
   "cell_type": "markdown",
   "id": "304310af",
   "metadata": {},
   "source": [
    "### Приклад 2\n",
    "Автоділер продавав **від чотирьох до семи машин на тиждень**\n",
    "\n",
    "Проте, було проведено рекламну кампанію **за 30 тис. у.о.** і **продажі зросли до ~16 на тиждень**\n",
    "\n",
    "Такий ефект спостерігався протягом **трьох тижнів**\n",
    "\n",
    "Наскільки ефективною була реклама якщо питомий **прибуток від продажу одного авто оцінюється у 1.5 тис. у.о.**?"
   ]
  },
  {
   "cell_type": "code",
   "execution_count": null,
   "id": "7a1ff2e4",
   "metadata": {},
   "outputs": [
    {
     "name": "stdout",
     "output_type": "stream",
     "text": [
      "LRInterval(a=24.0, b=25.5, alpha=6.0, beta=6.0) LRInterval(a=72.0, b=72.0, alpha=0.0, beta=0.0) LRInterval(a=46.5, b=48.0, alpha=6.0, beta=6.0)\n",
      "LRInterval(a=1.55, b=1.6, alpha=0.2, beta=0.2)\n"
     ]
    }
   ],
   "source": [
    "P_1 = trapmf(16, 17, 12, 21)\n",
    "P_2 = const(48)\n",
    "q = const(1.5)\n",
    "C = const(30)\n",
    "\n",
    "S1 = P_1 * q\n",
    "S2 = P_2 * q\n",
    "\n",
    "E = (S2 - S1) / C\n",
    "\n",
    "print(S1, S2, S2-S1)\n",
    "print(E)"
   ]
  },
  {
   "cell_type": "markdown",
   "id": "d3e66553",
   "metadata": {},
   "source": [
    "### Власний приклад 1\n",
    "\n",
    "Міністерство торгівлі вирішило перевизначити розмір мит відповідно до нової політики\n",
    "\n",
    "За нею відсоток мит прив'язується до сальдо товарообігу:\n",
    "* Для країн, що мають сальдо 10% та нижче запроваджуються мита у 10%\n",
    "* Для усіх інших країн мита відповідають розміру сальдо\n",
    "\n",
    "Попередня політика передбачала універсальну ставку у 9%\n",
    "\n",
    "Країна `A` мала сальдо у -5% і не змінила своєї торгівельної стратегії.\n",
    "Обсяг імпорту з неї складає від 30 до 40 мільйонів.\n",
    "\n",
    "Країна `B` мала сальдо у 20% і вирішила дзеркально підвищити ціну. \n",
    "Обсяг імпорту з неї складає від 100 до 120 мільйонів.\n",
    "\n",
    "Країна `C` мала сальдо у 55% і вирішила перестати імпортувати 90% товарів.\n",
    "Обсяг імпорту з неї складає від 300 до 310 мільйонів."
   ]
  },
  {
   "cell_type": "code",
   "execution_count": null,
   "id": "d9b1d016",
   "metadata": {},
   "outputs": [
    {
     "name": "stdout",
     "output_type": "stream",
     "text": [
      "LRInterval(a=38.699999999999996, b=42.3, alpha=0.0, beta=0.0) LRInterval(a=192.0, b=203.3, alpha=0.0, beta=0.0)\n",
      "LRInterval(a=305.04838709677415, b=338.0, alpha=0.0, beta=0.0) LRInterval(a=130.8548387096774, b=158.0, alpha=0.0, beta=0.0)\n",
      "LRInterval(a=343.74838709677414, b=380.3, alpha=0.0, beta=0.0) LRInterval(a=322.85483870967744, b=361.3, alpha=0.0, beta=0.0)\n",
      "LRInterval(a=0.8489477746770376, b=1.0510594771119162, alpha=0.0, beta=0.0)\n"
     ]
    }
   ],
   "source": [
    "A_i1 = rectmf(30, 40)\n",
    "A_i2 = A_i1\n",
    "A_e1 = A_i1 * const(1.05)\n",
    "A_e2 = A_e1\n",
    "\n",
    "B_i1 = rectmf(100, 120)\n",
    "B_i2 = B_i1 * const(1.2)\n",
    "B_e1 = B_i1 * const(0.8)\n",
    "B_e2 = B_e1\n",
    "\n",
    "C_i1 = rectmf(300, 310)\n",
    "C_i2 = C_i1\n",
    "C_e1 = C_i1 * const(1 / 1.55)\n",
    "C_e2 = C_e1 * const(0.1)\n",
    "\n",
    "T1 = (A_i1 + B_i1 + C_i1) * const(0.09)\n",
    "T2 = A_i2 * const(0.1) + B_i2 * const(0.2) + C_i2 * const(0.55)\n",
    "\n",
    "E1 = A_e1 + B_e1 + C_e1\n",
    "E2 = A_e2 + B_e2 + C_e2\n",
    "\n",
    "P1 = T1 + E1\n",
    "P2 = T2 + E2\n",
    "\n",
    "Eff = P2 / P1\n",
    "\n",
    "print(T1, T2)\n",
    "print(E1, E2)\n",
    "print(P1, P2)\n",
    "print(Eff)"
   ]
  },
  {
   "cell_type": "markdown",
   "id": "ade4ade2",
   "metadata": {},
   "source": [
    "### Власний приклад 2\n",
    "\n",
    "Видавець ігор вирішив змінити стратегію залучення нових гравців шляхом введення механізму підписок:\n",
    "Гравець може сплачувати **20 у.о на місяць** аби отримувати доступ до бібліотеки ігор, а не **платити по 60 у.о. за кожну**\n",
    "Ця ініціатива залучила **200 тисяч підписників**\n",
    "\n",
    "Наступного місяця відбудеться реліз нової гри.\n",
    "Маркетологи прогнозують проєкту **від 500 тис. до 1 мільйона** проданих копій протягом півроку **з найбільш вірогідним інтервалом у 600 - 700 тисяч**\n",
    "\n",
    "Альтернативно гру можна додати до бібліотеки, що **додасть ще 100 тисяч підписників**, але продажів буде лише **від 100 до 200 тисяч, а ймовірніше від 120 до 150** \n",
    "\n",
    "Допоможіть менеджеру Філу зробити правильний вибір!"
   ]
  },
  {
   "cell_type": "code",
   "execution_count": 23,
   "id": "d307123f",
   "metadata": {},
   "outputs": [
    {
     "name": "stdout",
     "output_type": "stream",
     "text": [
      "LRInterval(a=43200, b=45000, alpha=1200, beta=3000) LRInterval(a=60000, b=66000, alpha=6000, beta=18000)\n",
      "LRInterval(a=0.6545454545454545, b=0.75, alpha=0.19669421487603306, beta=0.125)\n"
     ]
    }
   ],
   "source": [
    "q_sub = const(20 * 6)\n",
    "q_buy = const(60)\n",
    "\n",
    "c1 = const(200)\n",
    "c2 = const(300)\n",
    "\n",
    "s1 = trapmf(600, 700, 500, 1000)\n",
    "s2 = trapmf(120, 150, 100, 200)\n",
    "\n",
    "P1 = (q_sub * c2 + s2 * q_buy)\n",
    "P2 = (q_sub * c1 + s1 * q_buy)\n",
    "E = P1 / P2\n",
    "\n",
    "print(P1, P2)\n",
    "print(E)"
   ]
  }
 ],
 "metadata": {
  "kernelspec": {
   "display_name": "comp_int",
   "language": "python",
   "name": "python3"
  },
  "language_info": {
   "codemirror_mode": {
    "name": "ipython",
    "version": 3
   },
   "file_extension": ".py",
   "mimetype": "text/x-python",
   "name": "python",
   "nbconvert_exporter": "python",
   "pygments_lexer": "ipython3",
   "version": "3.10.15"
  }
 },
 "nbformat": 4,
 "nbformat_minor": 5
}
